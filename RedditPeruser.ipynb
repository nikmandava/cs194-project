{
 "cells": [
  {
   "cell_type": "code",
   "execution_count": 5,
   "metadata": {},
   "outputs": [],
   "source": [
    "import praw"
   ]
  },
  {
   "cell_type": "code",
   "execution_count": 6,
   "metadata": {},
   "outputs": [],
   "source": [
    "reddit = praw.Reddit(\n",
    "    user_agent= \"Automatic Reddit Relationship Reply bot v0.0 (by /u/rdrlrp )\",\n",
    "    client_id=\"TiHrTwOaVXjsPQ\",\n",
    "    client_secret=\"eelQVm-F-mB7k4549X-jP-Kdgkyokw\",\n",
    "    username=\"rdrlrp\",\n",
    "    password=\"Cs194Project\",\n",
    ")"
   ]
  },
  {
   "cell_type": "code",
   "execution_count": 7,
   "metadata": {},
   "outputs": [
    {
     "name": "stdout",
     "output_type": "stream",
     "text": [
      "0\n",
      "Post ID\n",
      "mv44f0\n",
      "POST TIME\n",
      "1618964014.0\n",
      "<BOT> How do I[M28] express this one pet peeve I have to my gf[F27] of 1 month? <EOT> <BOP> So for as long as I can remember, I have this pet peeve about using other people's blankets, sheets, pillows, towels, etc. I cant do it unless they're clean. Like straight outta the washer and dryer clean. I dont know what it is but I can't stand using other people's bedding or other people using mine.  This is only my second relationship,  and my first in almost 5 years.  The last one wasn't that hard to deal with cause due to her racist mom I never slept over. And due to my super uptight prudish mom she never came over to mine. So we stayed at motels a lot  But im in a place now I can bring people over and stuff.  But I dont know how to bring this up to my gf without being or coming off weird I dont want to weird her out first time we have sex in my bed and the first thing I do is rip all the bedding off and put it in the wash  Tl;dr have a big pet peeve about using other peoples or other people using my bedding. Have no idea how to reveal this to new gf without weirding her out <EOP> <BOC>\n"
     ]
    }
   ],
   "source": [
    "posted_ids = set()\n",
    "subreddit = reddit.subreddit(\"relationships\")\n",
    "i = 0\n",
    "for submission in subreddit.stream.submissions():\n",
    "    if submission.id not in posted_ids:\n",
    "        print(i)\n",
    "        print(\"Post ID\")\n",
    "        print(submission.id)\n",
    "        print(\"POST TIME\")\n",
    "        print(submission.created_utc)\n",
    "        posted_ids.add(submission.id)\n",
    "        formatted = \"<BOT> \" + submission.title.strip().replace('\\n', ' ') + \" <EOT> <BOP> \" + submission.selftext.replace('\\n', ' ') + \" <EOP> <BOC>\"\n",
    "        print(formatted)\n",
    "        break\n",
    "#         print(\"TITLE\")\n",
    "#         print(submission.title.replace('\\n', ' '))\n",
    "#         print(\"BODY OF POST\")\n",
    "#         print(submission.selftext.replace('\\n', ' '))\n",
    "        i += 1"
   ]
  },
  {
   "cell_type": "code",
   "execution_count": 19,
   "metadata": {},
   "outputs": [
    {
     "name": "stdout",
     "output_type": "stream",
     "text": [
      "/Users/nikmandava/cs194fsdl/cs194-project\r\n"
     ]
    }
   ],
   "source": [
    "!pwd"
   ]
  },
  {
   "cell_type": "code",
   "execution_count": 8,
   "metadata": {},
   "outputs": [
    {
     "name": "stdout",
     "output_type": "stream",
     "text": [
      "<BOT> How do I[M28] express this one pet peeve I have to my gf[F27] of 1 month? <EOT> <BOP> So for as long as I can remember, I have this pet peeve about using other people's blankets, sheets, pillows, towels, etc. I cant do it unless they're clean. Like straight outta the washer and dryer clean. I dont know what it is but I can't stand using other people's bedding or other people using mine.  This is only my second relationship,  and my first in almost 5 years.  The last one wasn't that hard to deal with cause due to her racist mom I never slept over. And due to my super uptight prudish mom she never came over to mine. So we stayed at motels a lot  But im in a place now I can bring people over and stuff.  But I dont know how to bring this up to my gf without being or coming off weird I dont want to weird her out first time we have sex in my bed and the first thing I do is rip all the bedding off and put it in the wash  Tl;dr have a big pet peeve about using other peoples or other people using my bedding. Have no idea how to reveal this to new gf without weirding her out <EOP> <BOC>\n"
     ]
    }
   ],
   "source": [
    "print(formatted)"
   ]
  },
  {
   "cell_type": "code",
   "execution_count": 9,
   "metadata": {},
   "outputs": [],
   "source": [
    "from run_generation import generate_text"
   ]
  },
  {
   "cell_type": "code",
   "execution_count": 11,
   "metadata": {},
   "outputs": [
    {
     "name": "stderr",
     "output_type": "stream",
     "text": [
      "04/21/2021 08:05:37 - WARNING - run_generation -   device: cpu, n_gpu: 0, 16-bits training: False\n",
      "04/21/2021 08:05:41 - INFO - run_generation -   Namespace(device=device(type='cpu'), fp16=False, k=50, length=300, model_name_or_path='/Users/nikmandava/Downloads/checkpoint-82000', model_type='gpt2', n_gpu=0, no_cuda=False, num_return_sequences=5, p=0.9, padding_text='', prefix='', prompt=\"<BOT> How do I[M28] express this one pet peeve I have to my gf[F27] of 1 month? <EOT> <BOP> So for as long as I can remember, I have this pet peeve about using other people's blankets, sheets, pillows, towels, etc. I cant do it unless they're clean. Like straight outta the washer and dryer clean. I dont know what it is but I can't stand using other people's bedding or other people using mine.  This is only my second relationship,  and my first in almost 5 years.  The last one wasn't that hard to deal with cause due to her racist mom I never slept over. And due to my super uptight prudish mom she never came over to mine. So we stayed at motels a lot  But im in a place now I can bring people over and stuff.  But I dont know how to bring this up to my gf without being or coming off weird I dont want to weird her out first time we have sex in my bed and the first thing I do is rip all the bedding off and put it in the wash  Tl;dr have a big pet peeve about using other peoples or other people using my bedding. Have no idea how to reveal this to new gf without weirding her out <EOP> <BOC>\", repetition_penalty=1.0, seed=42, stop_token='<EOC>', temperature=1.0, xlm_language='')\n",
      "Setting `pad_token_id` to `eos_token_id`:50256 for open-end generation.\n"
     ]
    },
    {
     "name": "stdout",
     "output_type": "stream",
     "text": [
      "=== GENERATED SEQUENCE 1 ===\n",
      "<BOT> How do I[M28] express this one pet peeve I have to my gf[F27] of 1 month? <EOT> <BOP> So for as long as I can remember, I have this pet peeve about using other people's blankets, sheets, pillows, towels, etc. I cant do it unless they're clean. Like straight outta the washer and dryer clean. I dont know what it is but I can't stand using other people's bedding or other people using mine.  This is only my second relationship,  and my first in almost 5 years.  The last one wasn't that hard to deal with cause due to her racist mom I never slept over. And due to my super uptight prudish mom she never came over to mine. So we stayed at motels a lot  But im in a place now I can bring people over and stuff.  But I dont know how to bring this up to my gf without being or coming off weird I dont want to weird her out first time we have sex in my bed and the first thing I do is rip all the bedding off and put it in the wash  Tl;dr have a big pet peeve about using other peoples or other people using my bedding. Have no idea how to reveal this to new gf without weirding her out <EOP> <BOC>  &gt; I cant stand using other people's bedding or other people using my bedding  I have said \"no\" many times. I'm sure most people would agree with this. But it's weird and I just dont know how to bring it up to her. We have been dating for just under a year. I dont know what to say to her right now.  \n",
      "=== GENERATED SEQUENCE 2 ===\n",
      "<BOT> How do I[M28] express this one pet peeve I have to my gf[F27] of 1 month? <EOT> <BOP> So for as long as I can remember, I have this pet peeve about using other people's blankets, sheets, pillows, towels, etc. I cant do it unless they're clean. Like straight outta the washer and dryer clean. I dont know what it is but I can't stand using other people's bedding or other people using mine.  This is only my second relationship,  and my first in almost 5 years.  The last one wasn't that hard to deal with cause due to her racist mom I never slept over. And due to my super uptight prudish mom she never came over to mine. So we stayed at motels a lot  But im in a place now I can bring people over and stuff.  But I dont know how to bring this up to my gf without being or coming off weird I dont want to weird her out first time we have sex in my bed and the first thing I do is rip all the bedding off and put it in the wash  Tl;dr have a big pet peeve about using other peoples or other people using my bedding. Have no idea how to reveal this to new gf without weirding her out <EOP> <BOC>  No, you're not going to do this. Just learn to enjoy it. If you can't, break up. If you are in the wrong, you are not good enough. If you love each other, you can't be wrong.  \n",
      "=== GENERATED SEQUENCE 3 ===\n",
      "<BOT> How do I[M28] express this one pet peeve I have to my gf[F27] of 1 month? <EOT> <BOP> So for as long as I can remember, I have this pet peeve about using other people's blankets, sheets, pillows, towels, etc. I cant do it unless they're clean. Like straight outta the washer and dryer clean. I dont know what it is but I can't stand using other people's bedding or other people using mine.  This is only my second relationship,  and my first in almost 5 years.  The last one wasn't that hard to deal with cause due to her racist mom I never slept over. And due to my super uptight prudish mom she never came over to mine. So we stayed at motels a lot  But im in a place now I can bring people over and stuff.  But I dont know how to bring this up to my gf without being or coming off weird I dont want to weird her out first time we have sex in my bed and the first thing I do is rip all the bedding off and put it in the wash  Tl;dr have a big pet peeve about using other peoples or other people using my bedding. Have no idea how to reveal this to new gf without weirding her out <EOP> <BOC>  Yes it is the norm to bring in toys and bedding when you are not there, but I don't think it would be weird to not have a blanket you just wash.  \n",
      "=== GENERATED SEQUENCE 4 ===\n",
      "<BOT> How do I[M28] express this one pet peeve I have to my gf[F27] of 1 month? <EOT> <BOP> So for as long as I can remember, I have this pet peeve about using other people's blankets, sheets, pillows, towels, etc. I cant do it unless they're clean. Like straight outta the washer and dryer clean. I dont know what it is but I can't stand using other people's bedding or other people using mine.  This is only my second relationship,  and my first in almost 5 years.  The last one wasn't that hard to deal with cause due to her racist mom I never slept over. And due to my super uptight prudish mom she never came over to mine. So we stayed at motels a lot  But im in a place now I can bring people over and stuff.  But I dont know how to bring this up to my gf without being or coming off weird I dont want to weird her out first time we have sex in my bed and the first thing I do is rip all the bedding off and put it in the wash  Tl;dr have a big pet peeve about using other peoples or other people using my bedding. Have no idea how to reveal this to new gf without weirding her out <EOP> <BOC>  Do it like: \"I was using a blanket on the floor of my bed\". If she takes off the blanket, I'm sorry but don't do it until she is actually ready to put it to use.  The idea is, in your shoes, how do you stand to this and feel for yourself?  Because she's also a good person but not a good husband.  If you want her to want to sleep alone after sex, that's fine, and if she isn't willing to sleep at least half the time, that's not a bad thing to do.  She'll still love you and will be happy, she just wants to be on her own and do what she wants to.  As for you, don't go into your comfort zone with her and use your \"love language\" to convince her to go get help. Don't make her feel uncomfortable, you'll help yourself with this situation. You don't need her to sleep in a dirty, dead-end room, and she'll find you and be glad you're there.  \n",
      "=== GENERATED SEQUENCE 5 ===\n",
      "<BOT> How do I[M28] express this one pet peeve I have to my gf[F27] of 1 month? <EOT> <BOP> So for as long as I can remember, I have this pet peeve about using other people's blankets, sheets, pillows, towels, etc. I cant do it unless they're clean. Like straight outta the washer and dryer clean. I dont know what it is but I can't stand using other people's bedding or other people using mine.  This is only my second relationship,  and my first in almost 5 years.  The last one wasn't that hard to deal with cause due to her racist mom I never slept over. And due to my super uptight prudish mom she never came over to mine. So we stayed at motels a lot  But im in a place now I can bring people over and stuff.  But I dont know how to bring this up to my gf without being or coming off weird I dont want to weird her out first time we have sex in my bed and the first thing I do is rip all the bedding off and put it in the wash  Tl;dr have a big pet peeve about using other peoples or other people using my bedding. Have no idea how to reveal this to new gf without weirding her out <EOP> <BOC>  It's just that if I had that experience, I would just suck it up, I just don't want to be a jerk about it.  I would just suck it up, I just don't know how to bring it up to her. If I were to get some kind of response I would say \"I like you\" and then wait for it to happen.  \n"
     ]
    }
   ],
   "source": [
    "result = generate_text(formatted)"
   ]
  },
  {
   "cell_type": "code",
   "execution_count": 12,
   "metadata": {},
   "outputs": [
    {
     "name": "stdout",
     "output_type": "stream",
     "text": [
      "  &gt; I cant stand using other people's bedding or other people using my bedding  I have said \"no\" many times. I'm sure most people would agree with this. But it's weird and I just dont know how to bring it up to her. We have been dating for just under a year. I dont know what to say to her right now.  \n"
     ]
    }
   ],
   "source": [
    "print(result)"
   ]
  },
  {
   "cell_type": "code",
   "execution_count": null,
   "metadata": {},
   "outputs": [],
   "source": []
  }
 ],
 "metadata": {
  "kernelspec": {
   "display_name": "Python 3",
   "language": "python",
   "name": "python3"
  },
  "language_info": {
   "codemirror_mode": {
    "name": "ipython",
    "version": 3
   },
   "file_extension": ".py",
   "mimetype": "text/x-python",
   "name": "python",
   "nbconvert_exporter": "python",
   "pygments_lexer": "ipython3",
   "version": "3.6.8"
  }
 },
 "nbformat": 4,
 "nbformat_minor": 2
}
