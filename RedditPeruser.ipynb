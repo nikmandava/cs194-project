{
 "cells": [
  {
   "cell_type": "code",
   "execution_count": 4,
   "metadata": {},
   "outputs": [],
   "source": [
    "import praw"
   ]
  },
  {
   "cell_type": "code",
   "execution_count": 5,
   "metadata": {},
   "outputs": [],
   "source": [
    "reddit = praw.Reddit(\n",
    "    user_agent= \"Automatic Reddit Relationship Reply bot v0.0 (by /u/rdrlrp )\",\n",
    "    client_id=\"TiHrTwOaVXjsPQ\",\n",
    "    client_secret=\"eelQVm-F-mB7k4549X-jP-Kdgkyokw\",\n",
    "    username=\"rdrlrp\",\n",
    "    password=\"Cs194Project\",\n",
    ")"
   ]
  },
  {
   "cell_type": "code",
   "execution_count": 18,
   "metadata": {},
   "outputs": [
    {
     "name": "stdout",
     "output_type": "stream",
     "text": [
      "0\n",
      "Post ID\n",
      "muudy6\n",
      "POST TIME\n",
      "1618936498.0\n",
      "<BOT> I[26M] have feelings for my friend[27F], but cannot act on them due to her baby daddy issue which has been affecting my emotional health. I plan to end our friendship because of these feelings, am I a bad person for abandoning her at such a low point? <EOT> <BOP> Bear with me as this is going to be long and I am not good at conveying myself, but thank you in advance for looking.  My friend has been going through a lot this past year dealing with baby daddy drama. In short, he left them after they agreed for her to stay home and raise their son while he worked leaving her financially struggling, in the process of leaving them he had a restraining order against him from her due to domestic violence, and has now used the financial leverage him and his family has to strong arm her in court for the domestic violence case and the coming custody case.  Because of all of this she has been struggling mentally, emotionally, and physically. Fearful for her and her son's safety, days of crying herself to sleep, unable to eat due to stress and anxiety, not being able to have her emotional support dog, and many other issues.  A little backstory on our friendship, her and I have been friends for nearly 6 years now and a couple of years into our friendship I caught feelings for her which I did not act on or tell her due to her being in a relationship at the time and then me moving away. However, recently when I offered to take her dog in and home him until she was able to get back on her feet, I admitted my feelings for her because, personally, I wanted to have it all out there so that I would be helping her as a friend and not acting out of feelings.  When I told her about these feelings, she told me that us being together isn't something she hasn't thought about in the past and it is something she has recently considered because I have been there for her and she sees the way I treat her son, but it isn't something she has the emotionally capacity to think about or consider at this time due to her situation with her baby daddy. She also told me that if I am not able to get over these feelings then to let her know so we can talk it out, after she said that I told her I needed some space to figure these feelings out.  It has been a couple of months since then and we I have been or tried to be there for her as much as I could or she has allowed me to be. Now I have come to realize that these feeling I have for her are not going away and that I will always have feelings for her, which is an issue because I know myself and I can't be friends and have these feelings for her. The last time I went to go visit her, I told her that we needed to talk about our friendship and that it was not going to be a good conversation and while we were hugging goodbye, she told me that I better not say that we can never be friends because losing a friend is the last thing she needs.   Right now she is at her lowest point and her situation only seems to be getting worse, but my feelings for her have been affecting my emotional health a lot and I don't feel like I can be there for her anymore as just a friend. I plan to call her and let her know that I have to end our friendship because of these feelings and I plan to ask her if I can keep her dog as I have fallen in love with him, am I a completely shitty person and friend for abandoning her at such a low point in her life?  TLDR: I have feelings for my friend which cannot be acted on because of her baby daddy situation affecting her mental, emotional, and physical health. Not being able to be there for her as more than a friend is affecting my emotional health to the point where I feel like I have to end our friendship soon which also happens to be the lowest point of her life and seems to be getting worse, would I be abandoning her if I ended our friendship? <EOP> <BOC>\n"
     ]
    }
   ],
   "source": [
    "posted_ids = set()\n",
    "subreddit = reddit.subreddit(\"relationships\")\n",
    "i = 0\n",
    "for submission in subreddit.stream.submissions():\n",
    "    if submission.id not in posted_ids:\n",
    "        print(i)\n",
    "        print(\"Post ID\")\n",
    "        print(submission.id)\n",
    "        print(\"POST TIME\")\n",
    "        print(submission.created_utc)\n",
    "        posted_ids.add(submission.id)\n",
    "        formatted = \"<BOT> \" + submission.title.strip().replace('\\n', ' ') + \" <EOT> <BOP> \" + submission.selftext.replace('\\n', ' ') + \" <EOP> <BOC>\"\n",
    "        print(formatted)\n",
    "        break\n",
    "#         print(\"TITLE\")\n",
    "#         print(submission.title.replace('\\n', ' '))\n",
    "#         print(\"BODY OF POST\")\n",
    "#         print(submission.selftext.replace('\\n', ' '))\n",
    "        i += 1"
   ]
  },
  {
   "cell_type": "code",
   "execution_count": 19,
   "metadata": {},
   "outputs": [
    {
     "name": "stdout",
     "output_type": "stream",
     "text": [
      "/Users/nikmandava/cs194fsdl/cs194-project\r\n"
     ]
    }
   ],
   "source": [
    "!pwd"
   ]
  },
  {
   "cell_type": "code",
   "execution_count": 27,
   "metadata": {},
   "outputs": [],
   "source": [
    "import importlib  \n",
    "text_generation = importlib.import_module(\"examples.text-generation\")"
   ]
  },
  {
   "cell_type": "code",
   "execution_count": 28,
   "metadata": {},
   "outputs": [
    {
     "ename": "AttributeError",
     "evalue": "module 'examples.text-generation' has no attribute 'generate_text'",
     "output_type": "error",
     "traceback": [
      "\u001b[0;31m---------------------------------------------------------------------------\u001b[0m",
      "\u001b[0;31mAttributeError\u001b[0m                            Traceback (most recent call last)",
      "\u001b[0;32m<ipython-input-28-a36c386b6447>\u001b[0m in \u001b[0;36m<module>\u001b[0;34m()\u001b[0m\n\u001b[0;32m----> 1\u001b[0;31m \u001b[0mtext_generation\u001b[0m\u001b[0;34m.\u001b[0m\u001b[0mgenerate_text\u001b[0m\u001b[0;34m(\u001b[0m\u001b[0mformatted\u001b[0m\u001b[0;34m)\u001b[0m\u001b[0;34m\u001b[0m\u001b[0;34m\u001b[0m\u001b[0m\n\u001b[0m",
      "\u001b[0;31mAttributeError\u001b[0m: module 'examples.text-generation' has no attribute 'generate_text'"
     ]
    }
   ],
   "source": [
    "text_generation.generate_text(formatted)"
   ]
  },
  {
   "cell_type": "code",
   "execution_count": null,
   "metadata": {},
   "outputs": [],
   "source": []
  }
 ],
 "metadata": {
  "kernelspec": {
   "display_name": "Python 3",
   "language": "python",
   "name": "python3"
  },
  "language_info": {
   "codemirror_mode": {
    "name": "ipython",
    "version": 3
   },
   "file_extension": ".py",
   "mimetype": "text/x-python",
   "name": "python",
   "nbconvert_exporter": "python",
   "pygments_lexer": "ipython3",
   "version": "3.6.8"
  }
 },
 "nbformat": 4,
 "nbformat_minor": 2
}
